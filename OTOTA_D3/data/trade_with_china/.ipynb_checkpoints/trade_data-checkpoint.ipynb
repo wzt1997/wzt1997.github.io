{
 "cells": [
  {
   "cell_type": "code",
   "execution_count": 2,
   "metadata": {},
   "outputs": [],
   "source": [
    "import numpy as np\n",
    "import pandas as pd\n",
    "import json\n",
    "pd.set_option(\"display.precision\", 2)\n",
    "pd.options.mode.chained_assignment = None  # default='warn'"
   ]
  },
  {
   "cell_type": "code",
   "execution_count": null,
   "metadata": {},
   "outputs": [],
   "source": [
    "trade_data = {\n",
    "    'pos_prestack':[],\n",
    "    'neg_prestack':[],\n",
    "    'pos_item_list':[],\n",
    "    'neg_item_list':[],\n",
    "    'date_list':[],\n",
    "    'line_chart_data':{}\n",
    "}\n",
    "\n",
    "df = pd.read_csv('trade_dataset.csv')\n",
    "\n",
    "# transform it into a JSON form\n",
    "for i in range(2002, 2017):\n",
    "    df[str(i)] = df[str(i)].astype('float64')\n",
    "    trade_data['date_list'].append(i)\n",
    "    \n",
    "for index, row in df.iterrows():\n",
    "    item_name = row['Item'].split('--')[1]\n",
    "    df.loc[index,'Item'] = item_name\n",
    "    trade_data['line_chart_data'][item_name] = []\n",
    "    if row['2002'] > 0:\n",
    "        trade_data['pos_item_list'].append(item_name)\n",
    "    else:\n",
    "        trade_data['neg_item_list'].append(item_name)\n",
    "        \n",
    "    for i in range(2002, 2017):\n",
    "        value = round(row[str(i)] / 1000000000, 2)\n",
    "        df.loc[index, str(i)] = value\n",
    "\n",
    "# print(trade_data['line_chart_data'])\n",
    "\n",
    "for i in range(2002, 2017):\n",
    "    for item_name in trade_data['pos_item_list']:\n",
    "        trade_data['line_chart_data'][item_name].append([i])\n",
    "    for item_name in trade_data['neg_item_list']:\n",
    "        trade_data['line_chart_data'][item_name].append([i])\n",
    "        \n",
    "    pos_unit = {\n",
    "        'year': i\n",
    "    }\n",
    "    neg_unit = {\n",
    "        'year': i\n",
    "    }\n",
    "    for index, row in df.iterrows():\n",
    "        if row[str(i)] > 0:\n",
    "            pos_unit[row['Item']] = row[str(i)]\n",
    "        else:\n",
    "            neg_unit[row['Item']] = row[str(i)]\n",
    "        trade_data['line_chart_data'][row['Item']][i - 2002].append(row[str(i)])\n",
    "    trade_data['pos_prestack'].append( pos_unit )\n",
    "    trade_data['neg_prestack'].append( neg_unit )\n",
    "\n",
    "# print(trade_data['line_chart_data'])\n",
    "# print(json.dumps(trade_data['line_chart_data'], indent=4, ensure_ascii=False))"
   ]
  },
  {
   "cell_type": "code",
   "execution_count": 10,
   "metadata": {},
   "outputs": [],
   "source": [
    "with open(\"trade_data.json\", \"w\") as f:\n",
    "    f.write(json.dumps(trade_data, ensure_ascii=False, indent=4, separators=(',', ':')))"
   ]
  },
  {
   "cell_type": "code",
   "execution_count": null,
   "metadata": {},
   "outputs": [],
   "source": []
  }
 ],
 "metadata": {
  "kernelspec": {
   "display_name": "Python 3",
   "language": "python",
   "name": "python3"
  },
  "language_info": {
   "codemirror_mode": {
    "name": "ipython",
    "version": 3
   },
   "file_extension": ".py",
   "mimetype": "text/x-python",
   "name": "python",
   "nbconvert_exporter": "python",
   "pygments_lexer": "ipython3",
   "version": "3.8.5"
  }
 },
 "nbformat": 4,
 "nbformat_minor": 4
}
