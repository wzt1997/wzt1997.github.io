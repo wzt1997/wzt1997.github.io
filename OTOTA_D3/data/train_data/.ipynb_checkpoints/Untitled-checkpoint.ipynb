{
 "cells": [
  {
   "cell_type": "code",
   "execution_count": 16,
   "metadata": {},
   "outputs": [],
   "source": [
    "import numpy as np\n",
    "import pandas as pd\n",
    "import json\n",
    "pd.set_option(\"display.precision\", 2)"
   ]
  },
  {
   "cell_type": "code",
   "execution_count": 2,
   "metadata": {},
   "outputs": [
    {
     "data": {
      "text/html": [
       "<div>\n",
       "<style scoped>\n",
       "    .dataframe tbody tr th:only-of-type {\n",
       "        vertical-align: middle;\n",
       "    }\n",
       "\n",
       "    .dataframe tbody tr th {\n",
       "        vertical-align: top;\n",
       "    }\n",
       "\n",
       "    .dataframe thead th {\n",
       "        text-align: right;\n",
       "    }\n",
       "</style>\n",
       "<table border=\"1\" class=\"dataframe\">\n",
       "  <thead>\n",
       "    <tr style=\"text-align: right;\">\n",
       "      <th></th>\n",
       "      <th>车次</th>\n",
       "      <th>起点</th>\n",
       "      <th>终点</th>\n",
       "      <th>出发时间</th>\n",
       "      <th>到达时间</th>\n",
       "      <th>类别</th>\n",
       "      <th>服务</th>\n",
       "    </tr>\n",
       "  </thead>\n",
       "  <tbody>\n",
       "    <tr>\n",
       "      <th>0</th>\n",
       "      <td>C1001</td>\n",
       "      <td>长春</td>\n",
       "      <td>延吉西</td>\n",
       "      <td>5:47</td>\n",
       "      <td>8:04</td>\n",
       "      <td>动车</td>\n",
       "      <td>2</td>\n",
       "    </tr>\n",
       "    <tr>\n",
       "      <th>1</th>\n",
       "      <td>C1002</td>\n",
       "      <td>延吉西</td>\n",
       "      <td>长春</td>\n",
       "      <td>6:20</td>\n",
       "      <td>8:25</td>\n",
       "      <td>动车</td>\n",
       "      <td>2</td>\n",
       "    </tr>\n",
       "    <tr>\n",
       "      <th>2</th>\n",
       "      <td>C1002</td>\n",
       "      <td>延吉西</td>\n",
       "      <td>长春</td>\n",
       "      <td>6:15</td>\n",
       "      <td>8:30</td>\n",
       "      <td>动车</td>\n",
       "      <td>2</td>\n",
       "    </tr>\n",
       "    <tr>\n",
       "      <th>3</th>\n",
       "      <td>C1003</td>\n",
       "      <td>长春</td>\n",
       "      <td>珲春</td>\n",
       "      <td>6:30</td>\n",
       "      <td>9:40</td>\n",
       "      <td>动车</td>\n",
       "      <td>2</td>\n",
       "    </tr>\n",
       "    <tr>\n",
       "      <th>4</th>\n",
       "      <td>C1004</td>\n",
       "      <td>延吉西</td>\n",
       "      <td>长春</td>\n",
       "      <td>7:42</td>\n",
       "      <td>9:59</td>\n",
       "      <td>动车</td>\n",
       "      <td>2</td>\n",
       "    </tr>\n",
       "  </tbody>\n",
       "</table>\n",
       "</div>"
      ],
      "text/plain": [
       "      车次   起点   终点  出发时间  到达时间  类别  服务\n",
       "0  C1001   长春  延吉西  5:47  8:04  动车   2\n",
       "1  C1002  延吉西   长春  6:20  8:25  动车   2\n",
       "2  C1002  延吉西   长春  6:15  8:30  动车   2\n",
       "3  C1003   长春   珲春  6:30  9:40  动车   2\n",
       "4  C1004  延吉西   长春  7:42  9:59  动车   2"
      ]
     },
     "execution_count": 2,
     "metadata": {},
     "output_type": "execute_result"
    }
   ],
   "source": [
    "df = pd.read_csv('train_time_table.csv')\n",
    "df.head()"
   ]
  },
  {
   "cell_type": "code",
   "execution_count": 15,
   "metadata": {},
   "outputs": [
    {
     "name": "stdout",
     "output_type": "stream",
     "text": [
      "{'#nodes': 20, '#links': 110, 'links': [{'source': '北京南', 'target': '天津', 'weight': 80}, {'source': '北京南', 'target': '上海', 'weight': 3}, {'source': '北京南', 'target': '上海虹桥', 'weight': 39}, {'source': '北京南', 'target': '福州', 'weight': 4}, {'source': '北京南', 'target': '合肥南', 'weight': 5}, {'source': '北京南', 'target': '哈尔滨西', 'weight': 9}, {'source': '天津', 'target': '北京南', 'weight': 81}, {'source': '天津', 'target': '长沙南', 'weight': 1}, {'source': '上海南', 'target': '金山卫', 'weight': 72}, {'source': '金山卫', 'target': '上海南', 'weight': 72}, {'source': '武汉', 'target': '成都东', 'weight': 1}, {'source': '武汉', 'target': '重庆北', 'weight': 1}, {'source': '武汉', 'target': '上海虹桥', 'weight': 5}, {'source': '武汉', 'target': '福州', 'weight': 1}, {'source': '武汉', 'target': '深圳北', 'weight': 12}, {'source': '武汉', 'target': '北京西', 'weight': 10}, {'source': '武汉', 'target': '西安北', 'weight': 1}, {'source': '武汉', 'target': '广州南', 'weight': 25}, {'source': '武汉', 'target': '哈尔滨西', 'weight': 1}, {'source': '武汉', 'target': '贵阳北', 'weight': 2}, {'source': '成都东', 'target': '上海虹桥', 'weight': 3}, {'source': '成都东', 'target': '武汉', 'weight': 1}, {'source': '成都东', 'target': '福州', 'weight': 1}, {'source': '成都东', 'target': '重庆北', 'weight': 31}, {'source': '成都东', 'target': '北京西', 'weight': 1}, {'source': '成都东', 'target': '广州南', 'weight': 2}, {'source': '贵阳北', 'target': '广州南', 'weight': 19}, {'source': '贵阳北', 'target': '北京西', 'weight': 3}, {'source': '贵阳北', 'target': '上海虹桥', 'weight': 7}, {'source': '贵阳北', 'target': '武汉', 'weight': 2}, {'source': '贵阳北', 'target': '长沙南', 'weight': 4}, {'source': '贵阳北', 'target': '深圳北', 'weight': 1}, {'source': '深圳北', 'target': '北京西', 'weight': 6}, {'source': '深圳北', 'target': '上海虹桥', 'weight': 6}, {'source': '深圳北', 'target': '福州', 'weight': 1}, {'source': '深圳北', 'target': '武汉', 'weight': 12}, {'source': '深圳北', 'target': '西安北', 'weight': 3}, {'source': '深圳北', 'target': '重庆北', 'weight': 1}, {'source': '深圳北', 'target': '合肥南', 'weight': 1}, {'source': '深圳北', 'target': '贵阳北', 'weight': 1}, {'source': '深圳北', 'target': '长沙南', 'weight': 11}, {'source': '深圳北', 'target': '广州南', 'weight': 25}, {'source': '深圳', 'target': '广州东', 'weight': 70}, {'source': '广州东', 'target': '深圳', 'weight': 65}, {'source': '广州南', 'target': '贵阳北', 'weight': 19}, {'source': '广州南', 'target': '北京西', 'weight': 5}, {'source': '广州南', 'target': '上海虹桥', 'weight': 8}, {'source': '广州南', 'target': '西安北', 'weight': 5}, {'source': '广州南', 'target': '成都东', 'weight': 2}, {'source': '广州南', 'target': '合肥南', 'weight': 1}, {'source': '广州南', 'target': '武汉', 'weight': 26}, {'source': '广州南', 'target': '长沙南', 'weight': 9}, {'source': '广州南', 'target': '深圳北', 'weight': 25}, {'source': '哈尔滨西', 'target': '北京南', 'weight': 9}, {'source': '哈尔滨西', 'target': '上海虹桥', 'weight': 1}, {'source': '哈尔滨西', 'target': '武汉', 'weight': 1}, {'source': '上海虹桥', 'target': '成都东', 'weight': 3}, {'source': '上海虹桥', 'target': '深圳北', 'weight': 6}, {'source': '上海虹桥', 'target': '广州南', 'weight': 8}, {'source': '上海虹桥', 'target': '重庆北', 'weight': 2}, {'source': '上海虹桥', 'target': '武汉', 'weight': 4}, {'source': '上海虹桥', 'target': '福州', 'weight': 6}, {'source': '上海虹桥', 'target': '合肥南', 'weight': 5}, {'source': '上海虹桥', 'target': '北京南', 'weight': 39}, {'source': '上海虹桥', 'target': '长沙南', 'weight': 15}, {'source': '上海虹桥', 'target': '哈尔滨西', 'weight': 1}, {'source': '上海虹桥', 'target': '贵阳北', 'weight': 7}, {'source': '福州', 'target': '重庆北', 'weight': 1}, {'source': '福州', 'target': '成都东', 'weight': 1}, {'source': '福州', 'target': '深圳北', 'weight': 1}, {'source': '福州', 'target': '长沙南', 'weight': 1}, {'source': '福州', 'target': '上海虹桥', 'weight': 6}, {'source': '福州', 'target': '武汉', 'weight': 1}, {'source': '福州', 'target': '北京南', 'weight': 4}, {'source': '福州', 'target': '合肥南', 'weight': 1}, {'source': '西安北', 'target': '上海', 'weight': 2}, {'source': '西安北', 'target': '北京西', 'weight': 13}, {'source': '西安北', 'target': '广州南', 'weight': 5}, {'source': '西安北', 'target': '深圳北', 'weight': 3}, {'source': '西安北', 'target': '武汉', 'weight': 1}, {'source': '上海', 'target': '西安北', 'weight': 2}, {'source': '上海', 'target': '北京南', 'weight': 3}, {'source': '上海', 'target': '合肥南', 'weight': 11}, {'source': '重庆北', 'target': '上海虹桥', 'weight': 2}, {'source': '重庆北', 'target': '福州', 'weight': 1}, {'source': '重庆北', 'target': '武汉', 'weight': 1}, {'source': '重庆北', 'target': '成都东', 'weight': 31}, {'source': '重庆北', 'target': '北京西', 'weight': 1}, {'source': '重庆北', 'target': '深圳北', 'weight': 1}, {'source': '北京西', 'target': '深圳北', 'weight': 6}, {'source': '北京西', 'target': '广州南', 'weight': 5}, {'source': '北京西', 'target': '贵阳北', 'weight': 3}, {'source': '北京西', 'target': '长沙南', 'weight': 4}, {'source': '北京西', 'target': '西安北', 'weight': 13}, {'source': '北京西', 'target': '成都东', 'weight': 1}, {'source': '北京西', 'target': '重庆北', 'weight': 1}, {'source': '北京西', 'target': '武汉', 'weight': 9}, {'source': '长沙南', 'target': '福州', 'weight': 1}, {'source': '长沙南', 'target': '北京西', 'weight': 4}, {'source': '长沙南', 'target': '天津', 'weight': 1}, {'source': '长沙南', 'target': '上海虹桥', 'weight': 14}, {'source': '长沙南', 'target': '贵阳北', 'weight': 4}, {'source': '长沙南', 'target': '深圳北', 'weight': 11}, {'source': '长沙南', 'target': '广州南', 'weight': 9}, {'source': '合肥南', 'target': '上海虹桥', 'weight': 4}, {'source': '合肥南', 'target': '北京南', 'weight': 5}, {'source': '合肥南', 'target': '广州南', 'weight': 1}, {'source': '合肥南', 'target': '深圳北', 'weight': 1}, {'source': '合肥南', 'target': '福州', 'weight': 1}, {'source': '合肥南', 'target': '上海', 'weight': 10}], 'node_list': ['北京南', '天津', '上海南', '金山卫', '武汉', '成都东', '贵阳北', '深圳北', '深圳', '广州东', '广州南', '哈尔滨西', '上海虹桥', '福州', '西安北', '上海', '重庆北', '北京西', '长沙南', '合肥南'], '#nodesorigin': 0, '#edgesorigin': 0}\n"
     ]
    }
   ],
   "source": [
    "station_statistic = {\n",
    "    \"#nodes\": 0,\n",
    "    \"#links\": 0,\n",
    "    \"links\": [],\n",
    "    \"node_list\":[],\n",
    "    \"#nodesorigin\": 0,\n",
    "    \"#edgesorigin\": 0,\n",
    "}\n",
    "\n",
    "stat = {}\n",
    "\n",
    "for index, row in df.iterrows():\n",
    "    start = row[\"起点\"]\n",
    "    end = row[\"终点\"]\n",
    "    if not start in stat:\n",
    "        stat[start] = {}\n",
    "    if not end in stat[start]:\n",
    "        stat[start][end] = 1\n",
    "    else:\n",
    "        stat[start][end] += 1\n",
    "        \n",
    "station_statistic['#nodes'] = 20\n",
    "stations = ['北京南', '天津', '上海南', '金山卫', '武汉', '成都东', '贵阳北', '深圳北', '深圳', '广州东', '广州南', '哈尔滨西', '上海虹桥', '福州', '西安北', '上海', '重庆北', '北京西', '长沙南', '合肥南']\n",
    "station_statistic['node_list'] = stations\n",
    "\n",
    "for start, targets in stat.items():\n",
    "#     count = 0\n",
    "#     for num in targets.values():\n",
    "#         count += num\n",
    "#     if count > 60:\n",
    "#         stations.append(start)\n",
    "    if start in stations:\n",
    "        for target, num in targets.items():\n",
    "            if target in stations:\n",
    "                edge = {\n",
    "                    'source': start,\n",
    "                    'target': target,\n",
    "                    'weight': num\n",
    "                }\n",
    "                station_statistic['links'].append(edge)\n",
    "                station_statistic['#links'] += 1\n",
    "\n",
    "print(station_statistic)\n",
    "with open('data.json','w') as f:\n",
    "    json.dump(station_statistic,f) "
   ]
  },
  {
   "cell_type": "code",
   "execution_count": null,
   "metadata": {},
   "outputs": [],
   "source": []
  }
 ],
 "metadata": {
  "kernelspec": {
   "display_name": "Python 3",
   "language": "python",
   "name": "python3"
  },
  "language_info": {
   "codemirror_mode": {
    "name": "ipython",
    "version": 3
   },
   "file_extension": ".py",
   "mimetype": "text/x-python",
   "name": "python",
   "nbconvert_exporter": "python",
   "pygments_lexer": "ipython3",
   "version": "3.8.5"
  }
 },
 "nbformat": 4,
 "nbformat_minor": 4
}
