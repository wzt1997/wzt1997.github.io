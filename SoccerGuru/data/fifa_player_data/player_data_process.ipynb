{
 "cells": [
  {
   "cell_type": "code",
   "execution_count": 1,
   "metadata": {},
   "outputs": [],
   "source": [
    "#coding=utf-8 \n",
    "import numpy as np\n",
    "import pandas as pd\n",
    "import json\n",
    "pd.set_option(\"display.precision\", 2)\n",
    "pd.options.mode.chained_assignment = None  # default='warn'"
   ]
  },
  {
   "cell_type": "code",
   "execution_count": 2,
   "metadata": {},
   "outputs": [
    {
     "name": "stdout",
     "output_type": "stream",
     "text": [
      "0   ID\n",
      "1   Name\n",
      "2   Age\n",
      "3   Photo\n",
      "4   Nationality\n",
      "5   Flag\n",
      "6   Overall\n",
      "7   Potential\n",
      "8   Club\n",
      "9   Club Logo\n",
      "10   Value\n",
      "11   Wage\n",
      "12   Special\n",
      "13   Preferred Foot\n",
      "14   International Reputation\n",
      "15   Weak Foot\n",
      "16   Skill Moves\n",
      "17   Work Rate\n",
      "18   Body Type\n",
      "19   Real Face\n",
      "20   Position\n",
      "21   Jersey Number\n",
      "22   Joined\n",
      "23   Loaned From\n",
      "24   Contract Valid Until\n",
      "25   Height\n",
      "26   Weight\n",
      "27   Crossing\n",
      "28   Finishing\n",
      "29   HeadingAccuracy\n",
      "30   ShortPassing\n",
      "31   Volleys\n",
      "32   Dribbling\n",
      "33   Curve\n",
      "34   FKAccuracy\n",
      "35   LongPassing\n",
      "36   BallControl\n",
      "37   Acceleration\n",
      "38   SprintSpeed\n",
      "39   Agility\n",
      "40   Reactions\n",
      "41   Balance\n",
      "42   ShotPower\n",
      "43   Jumping\n",
      "44   Stamina\n",
      "45   Strength\n",
      "46   LongShots\n",
      "47   Aggression\n",
      "48   Interceptions\n",
      "49   Positioning\n",
      "50   Vision\n",
      "51   Penalties\n",
      "52   Composure\n",
      "53   Marking\n",
      "54   StandingTackle\n",
      "55   SlidingTackle\n",
      "56   GKDiving\n",
      "57   GKHandling\n",
      "58   GKKicking\n",
      "59   GKPositioning\n",
      "60   GKReflexes\n",
      "61   Best Position\n",
      "62   Best Overall Rating\n",
      "63   Release Clause\n",
      "64   DefensiveAwareness\n"
     ]
    }
   ],
   "source": [
    "df = pd.read_csv('FIFA21_official_data.csv', encoding=\"utf-8\")\n",
    "col_list = df.columns.values.tolist()\n",
    "for index, col in enumerate(col_list):\n",
    "    print(index, \" \", col)"
   ]
  },
  {
   "cell_type": "code",
   "execution_count": 3,
   "metadata": {},
   "outputs": [],
   "source": [
    "players = json.loads(df.to_json(orient='index'))"
   ]
  },
  {
   "cell_type": "code",
   "execution_count": 7,
   "metadata": {},
   "outputs": [
    {
     "name": "stdout",
     "output_type": "stream",
     "text": [
      "{\n",
      "    \"Passing\": 75,\n",
      "    \"Shooting\": 67,\n",
      "    \"Dribbling\": 77,\n",
      "    \"Defense\": 69,\n",
      "    \"Strength\": 73,\n",
      "    \"Speed\": 74\n",
      "}\n"
     ]
    }
   ],
   "source": [
    "player_data = []\n",
    "\n",
    "avg_ability = {}\n",
    "for j in range(27,61):\n",
    "        avg_ability[ col_list[j] ] = 0;\n",
    "\n",
    "for i in range(0, 1000):\n",
    "    player = players[str(i)]\n",
    "    player_ability = {}\n",
    "\n",
    "    ability_section_name = [ 'Attack', 'Skill', 'Movement', 'Strength', 'Psychology', 'Defense', 'Goalkeeping'  ]\n",
    "    for name in ability_section_name:\n",
    "        player_ability[name] = {}\n",
    "\n",
    "    for j in range(27, 61):\n",
    "        if j == 56:\n",
    "            if not player[ col_list[j] ]:\n",
    "                player_ability['Goalkeeping'][col_list[j]] = 75.0\n",
    "            else:\n",
    "                player_ability['Goalkeeping'][col_list[j]] = player[ col_list[j] ]\n",
    "        else:\n",
    "            section_name = ability_section_name[ int((j-27) / 5) ]\n",
    "            if not player[ col_list[j] ]:\n",
    "                player_ability[ section_name ][ col_list[j] ] = 75.0\n",
    "            else:\n",
    "                player_ability[ section_name ][ col_list[j] ] = player[ col_list[j] ]\n",
    "        \n",
    "        avg_ability[ col_list[j] ] += player[ col_list[j] ]\n",
    "    # print(json.dumps(player_ability, indent=4, ensure_ascii=False))\n",
    "    player['Ability'] = player_ability\n",
    "    \n",
    "    player_radar_ability = {}\n",
    "    player_radar_ability['Passing'] = int((player['Crossing'] + player['ShortPassing'] + player['LongPassing'])/3)\n",
    "    player_radar_ability['Shooting'] = int((player['Finishing'] + player['HeadingAccuracy'] + player['Volleys'] +  player['Curve'] + player['FKAccuracy']+player['LongShots'])/6)\n",
    "    player_radar_ability['Dribbling'] = int((player['Dribbling'] + player['BallControl'])/2)\n",
    "    player_radar_ability['Defense'] = int((player['SlidingTackle'] + player['StandingTackle'] + player['Composure'] +  player['Positioning'] + player['Interceptions'])/5)\n",
    "    player_radar_ability['Strength'] = int((player['Strength'] + player['Jumping'] + player['Stamina'] +  player['Balance'])/4)\n",
    "    player_radar_ability['Speed'] = int((player['Acceleration'] + player['SprintSpeed'] + player['Agility'] +  player['Reactions'])/4)\n",
    "    player['RadarAbility'] = player_radar_ability\n",
    "    \n",
    "    player_data.append( player )\n",
    "    \n",
    "for j in range(27,61):\n",
    "        avg_ability[ col_list[j] ] /= 1000;\n",
    "avg_radar_ability = {}\n",
    "avg_radar_ability['Passing'] = int((avg_ability['Crossing'] + avg_ability['ShortPassing'] + avg_ability['LongPassing'])/3)\n",
    "avg_radar_ability['Shooting'] = int((avg_ability['Finishing'] + avg_ability['HeadingAccuracy'] + avg_ability['Volleys'] +  avg_ability['Curve'] + avg_ability['FKAccuracy']+avg_ability['LongShots'])/6)\n",
    "avg_radar_ability['Dribbling'] = int((avg_ability['Dribbling'] + avg_ability['BallControl'])/2)\n",
    "avg_radar_ability['Defense'] = int((avg_ability['SlidingTackle'] + avg_ability['StandingTackle'] + avg_ability['Composure'] +  avg_ability['Positioning'] + avg_ability['Interceptions'])/5)\n",
    "avg_radar_ability['Strength'] = int((avg_ability['Strength'] + avg_ability['Jumping'] + avg_ability['Stamina'] +  avg_ability['Balance'])/4)\n",
    "avg_radar_ability['Speed'] = int((avg_ability['Acceleration'] + avg_ability['SprintSpeed'] + avg_ability['Agility'] +  avg_ability['Reactions'])/4)\n",
    "\n",
    "print(json.dumps(avg_radar_ability, indent=4, ensure_ascii=False))"
   ]
  },
  {
   "cell_type": "code",
   "execution_count": 26,
   "metadata": {},
   "outputs": [],
   "source": [
    "with open(\"player_data.json\", \"w\") as f:\n",
    "    f.write(json.dumps(player_data, ensure_ascii=False, indent=4, separators=(',', ':')))"
   ]
  },
  {
   "cell_type": "code",
   "execution_count": null,
   "metadata": {},
   "outputs": [],
   "source": []
  }
 ],
 "metadata": {
  "kernelspec": {
   "display_name": "Python 3",
   "language": "python",
   "name": "python3"
  },
  "language_info": {
   "codemirror_mode": {
    "name": "ipython",
    "version": 3
   },
   "file_extension": ".py",
   "mimetype": "text/x-python",
   "name": "python",
   "nbconvert_exporter": "python",
   "pygments_lexer": "ipython3",
   "version": "3.8.5"
  }
 },
 "nbformat": 4,
 "nbformat_minor": 4
}
