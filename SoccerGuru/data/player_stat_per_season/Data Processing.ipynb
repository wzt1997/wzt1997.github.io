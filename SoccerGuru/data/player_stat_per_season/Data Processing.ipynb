{
 "cells": [
  {
   "cell_type": "code",
   "execution_count": 1,
   "metadata": {},
   "outputs": [],
   "source": [
    "import csv\n",
    "import pandas as pd\n",
    "import numpy as np"
   ]
  },
  {
   "cell_type": "code",
   "execution_count": 9,
   "metadata": {},
   "outputs": [],
   "source": [
    "df1 = pd.read_csv(\"raw_data/players_stats_per_season.csv\", encoding='utf-8')\n",
    "df2 = pd.read_csv(\"raw_data/player_id_mapping.csv\", encoding='utf-8')\n",
    "df3 = pd.read_csv(\"raw_data/season_mapping.csv\", encoding='utf-8')\n",
    "df4 = pd.read_csv(\"raw_data/tournaments_mapping.csv\", encoding='utf-8')\n",
    "\n",
    "df = pd.merge( df1, df2, on=['player_id'] )\n",
    "df = pd.merge( df, df4, on=['tournament_id'] )\n",
    "df = pd.merge( df, df3, on=['season_id'] )"
   ]
  },
  {
   "cell_type": "code",
   "execution_count": 10,
   "metadata": {},
   "outputs": [],
   "source": [
    "#data processing for season data: spliting season into league and year\n",
    "def getYear(arr):\n",
    "    season_name = arr['season_name']\n",
    "    year = \"\"\n",
    "    flag = False\n",
    "    for x in range(13, 23):\n",
    "        tmp = str(x)\n",
    "        if tmp in season_name:\n",
    "            flag = True\n",
    "            return \"20\" + tmp\n",
    "    if not flag: #Deal with 'World Cup'\n",
    "        return \"2018\"\n",
    "    \n",
    "df['year'] = df.apply( getYear, axis=1 )"
   ]
  },
  {
   "cell_type": "code",
   "execution_count": 11,
   "metadata": {},
   "outputs": [],
   "source": [
    "df.drop(['Unnamed: 0','substitutionsIn', 'substitutionsOut', 'player_id', 'tournament_id', 'season_id','season_name'], axis=1, inplace=True)\n",
    "df.dropna(axis=0, subset=['rating', 'possessionLost'], inplace=True)\n",
    "df.fillna(axis=0, value=0 , inplace=True) \n",
    "\n",
    "tour_list = ['Bundesliga',  'LaLiga', 'Ligue 1',   'Premier League', 'Serie A', 'UEFA Champions League']\n",
    "df = df[df.tournament_name.isin(tour_list)]"
   ]
  },
  {
   "cell_type": "code",
   "execution_count": 12,
   "metadata": {},
   "outputs": [
    {
     "data": {
      "text/plain": [
       "['Premier League',\n",
       " 'UEFA Champions League',\n",
       " 'Serie A',\n",
       " 'LaLiga',\n",
       " 'Bundesliga',\n",
       " 'Ligue 1']"
      ]
     },
     "execution_count": 12,
     "metadata": {},
     "output_type": "execute_result"
    }
   ],
   "source": [
    "tour_list = [ ]\n",
    "def getTournamentName(arr):\n",
    "    name = arr['tournament_name']\n",
    "    if not name in tour_list:\n",
    "        tour_list.append( name )\n",
    "\n",
    "df.apply( getTournamentName, axis=1 )\n",
    "tour_list"
   ]
  },
  {
   "cell_type": "code",
   "execution_count": 13,
   "metadata": {},
   "outputs": [],
   "source": [
    "df.to_csv(\"merged_player_stat.csv\", index=False, encoding=\"utf_8_sig\",float_format='%.2f')"
   ]
  },
  {
   "cell_type": "code",
   "execution_count": null,
   "metadata": {},
   "outputs": [],
   "source": []
  }
 ],
 "metadata": {
  "kernelspec": {
   "display_name": "Python 3",
   "language": "python",
   "name": "python3"
  },
  "language_info": {
   "codemirror_mode": {
    "name": "ipython",
    "version": 3
   },
   "file_extension": ".py",
   "mimetype": "text/x-python",
   "name": "python",
   "nbconvert_exporter": "python",
   "pygments_lexer": "ipython3",
   "version": "3.8.5"
  }
 },
 "nbformat": 4,
 "nbformat_minor": 4
}
